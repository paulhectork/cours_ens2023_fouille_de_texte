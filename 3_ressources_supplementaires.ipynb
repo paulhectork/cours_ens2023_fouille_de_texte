{
 "cells": [
  {
   "cell_type": "markdown",
   "id": "3cfa028d",
   "metadata": {},
   "source": [
    "# Ressources supplémentaires / pour aller plus loin\n",
    "\n",
    "---\n",
    "\n",
    "## À propos de Python et des humanités numériques\n",
    "\n",
    "- l'excellent [cours de Python](https://github.com/PonteIneptique/cours-python) du master *Technologies numériques appliquées à l'histoire*, donné à l'École des Chartes par Thibault Clérice pendant des années. Il s'addresse aux très grand.es débutant.es et finit par la création d'un site Web complet en Python, couvre toutes les bases et bien plus\n",
    "- le [*Programming historian*](https://programminghistorian.org/) et sa [version française](https://programminghistorian.org/fr/): ce site, fait par des chercheur.euse.s en humanités numériques, regroupe plein de tutoriels utiles pour en apprendre plus sur les humanités numériques. Il s'addresse à un public relativement débutant\n",
    "- Pour des publications en humanités numériques: \n",
    "    - le [*Journal of data mining and digital humanities*](https://jdmdh.episciences.org/page/natural-language-processing-for-digital-humanities), avec une approche très technique et orienté apprentissage machine. Il y a des articles en français et en anglais\n",
    "    - la revue [*Humanités numériques*](https://journals.openedition.org/revuehn/), en français\n",
    "    - pour les humanités numériques francophones, on trouve énormément d'articles en accès libre sur [HAL](https://hal.science/), il suffit de chercher le nom des chercheur.euse.s qui vous intéressent. Par exemple: https://hal.science/hal-03018381\n",
    " \n",
    "---\n",
    "\n",
    "## Pour les expressions régulières\n",
    "- [regex101](https://regex101.com/), très utile pour tester et débuguer des regex\n",
    "- [RegexLearn](https://regexlearn.com/), ou n'importe lequel des très nombreux sites en ligne qui proposent des exercices pour se former aux regex. C'est vraiment la meilleure manière d'apprendre à s'en servir: une fois qu'on a un peu compris les bases, on prend une cheatsheet et on fait des exercices en chaîne.\n",
    "\n",
    "---\n",
    "\n",
    "## Documentation des librairies utilisées\n",
    "\n",
    "- [requests](https://requests.readthedocs.io/en/latest/index.html)\n",
    "- [plotly](https://plotly.com/python/) et la [documentation complète](https://plotly.com/python-api-reference/)\n",
    "- [re](https://docs.python.org/3/library/re.html). Les documentations officielles de Python sont un peu indigeste quand on est débutant.es (et même après)\n",
    "- [os](https://docs.python.org/3/library/os.html?highlight=os#module-os). Rebelotte, c'est une librairie Python."
   ]
  }
 ],
 "metadata": {
  "kernelspec": {
   "display_name": "Python 3 (ipykernel)",
   "language": "python",
   "name": "python3"
  },
  "language_info": {
   "codemirror_mode": {
    "name": "ipython",
    "version": 3
   },
   "file_extension": ".py",
   "mimetype": "text/x-python",
   "name": "python",
   "nbconvert_exporter": "python",
   "pygments_lexer": "ipython3",
   "version": "3.8.10"
  }
 },
 "nbformat": 4,
 "nbformat_minor": 5
}
