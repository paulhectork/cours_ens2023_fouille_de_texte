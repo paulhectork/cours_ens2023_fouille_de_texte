{
  "cells": [
    {
      "cell_type": "markdown",
      "id": "928dff28",
      "metadata": {
        "id": "928dff28"
      },
      "source": [
        "# Constituer un corpus de recherche avec une API\n",
        "\n",
        "## [Notebook précédent](https://colab.research.google.com/drive/1NHCg4HiTZVZbeZqeSMJthFw6r5TYzqCB?usp=sharing)\n",
        "\n",
        "---\n",
        "\n",
        "## Introduction\n",
        "\n",
        "Comme on aime bien faire les choses à l'envers, on va ici créer le corpus de recherche qui a été utilisé pour produire les visualisations dans le notebook précédent. La chaîne de traitement est la suivante:\n",
        "- les auteur.ice.s sont définis pour chaque genre\n",
        "- tous les manuscrits mis en vente dans les catalogues Katabase et écrits par ces auteur.ice.s sont récupérés sur l'API de Katabase. Cette étape est le point central du notebook.\n",
        "- les données récupérés sont nettoyées et structurées obtenir 4 corpus en texte brut\n",
        "- les corpus sont enregistrés dans des fichiers\n",
        "\n",
        "---\n",
        "\n",
        "## Imports et installation des dépendences\n",
        "\n",
        "On installe des dépendances et importe les librairies, comme dans la partie précédente."
      ]
    },
    {
      "cell_type": "code",
      "source": [
        "!pip install certifi==2022.12.7\n",
        "!pip install charset-normalizer==3.0.1\n",
        "!pip install idna==3.4\n",
        "!pip install kaleido==0.2.1\n",
        "!pip install pkg_resources==0.0.0\n",
        "!pip install plotly==5.13.0\n",
        "!pip install requests==2.28.2\n",
        "!pip install tenacity==8.2.1\n",
        "!pip install urllib3==1.26.14"
      ],
      "metadata": {
        "id": "_-Q0xfEYcbI2"
      },
      "id": "_-Q0xfEYcbI2",
      "execution_count": null,
      "outputs": []
    },
    {
      "cell_type": "code",
      "execution_count": null,
      "id": "daf7f6a9",
      "metadata": {
        "id": "daf7f6a9"
      },
      "outputs": [],
      "source": [
        "import requests  # le paquet pour faire des requêtes HTTP et récupérer des données de sources distantes\n",
        "import json  # librairie pour le json\n",
        "import sys  # librarie pour des opérations sur le système d'exploitation\n",
        "import os  # le paquet pour construire des chemins de fichiers\n",
        "import re  # librairie pour les expressions régulières"
      ]
    },
    {
      "cell_type": "markdown",
      "id": "076bb43c",
      "metadata": {
        "id": "076bb43c"
      },
      "source": [
        "---\n",
        "\n",
        "## La constitution de corpus\n",
        "\n",
        "La première étape est de définir qui sont les auteur.ice.s à partir desquel.le.s on constituera notre corpus de recherche. Ce corpus est constitué à partir de la page Wikipédia sur la [littérature française du XVIIIe siècle](https://fr.wikipedia.org/wiki/Litt%C3%A9rature_fran%C3%A7aise_du_XVIIIe_si%C3%A8cle). \n",
        "\n",
        "En essayer de créer le corpus, des soucis apparaissent très vite: \n",
        "- on est très limité.e.s par les données mises à disposition par Katabase (quelles sources ont été océrisées, lesquelles ne l'ont pas été?)\n",
        "- on est ensuite limité par les sources elles-mêmes: ce qui est mis en vente est ce qui a une certaine visibilité au XIXe siècle. Les autrices, par exemple (et les femmes en général), sont très sous-représentées dans le corpus \n",
        "- on est également limité.e.s par la manière dont elles sont mises à disposition: l'API ne permet de faire des requêtes sur les noms de famille (il y a donc un risque de bruit en cas d'homonymie entre plusieurs personnes).\n",
        "- le dernier problème tient à notre hypothèse de recherche elle-même: un.e auteur.ice n'appartient pas à un genre, elle ou il pratique souvent différents genres. Mais on continue quand même avec cette hypothèse: le but de ce cours c'est de montrer des outils, pas de révolutionner la science. \n",
        "\n",
        "Par conséquent, les corpus constitués sont uniquement masculins (il y a *très* peu de données et encore moins de manuscrits de femmes vendus à prix fixes) et comportent des auteurs qui semblent ne pas avoir d'homonymes dans le corpus de Katabase, pour éviter le bruit. On classe enfin les auteurs en fonction du genre dans lequel ils sont le plus connus."
      ]
    },
    {
      "cell_type": "code",
      "execution_count": null,
      "id": "cf8e98cc",
      "metadata": {
        "id": "cf8e98cc"
      },
      "outputs": [],
      "source": [
        "auteurs_idees = [\n",
        "        \"voltaire\"       # françois-marie arouet, dit voltaire\n",
        "        , \"montesquieu\"  # charles louis de secondat, baron de montesquieu\n",
        "        , \"rousseau\"     # jean-jacques rousseau\n",
        "        , \"diderot\"      # denis diderot\n",
        "        , \"d'alembert\"    # jean le rond d'alembert\n",
        "]\n",
        "auteurs_theatre = [\n",
        "        \"beaumarchais\"  # pierre-augustin caron de beaumarchais\n",
        "        , \"marivaux\"    # marivaux, né pierre carlet\n",
        "        , \"regnard\"     # jean-françois regnard\n",
        "        , \"lesage\"      # alain-rené lesage\n",
        "        , \"sedaine\"     # michel-jean sedaine\n",
        "]\n",
        "auteurs_roman = [\n",
        "        \"restif de la bretonne\"  # nicolas edme restif de la bretonne\n",
        "        , \"laclos\"               # choderlos de laclos\n",
        "        , \"sade\"                 # marquis de sadee\n",
        "        , \"crebillon\"            # claude-prosper joylot de crébillon\n",
        "        , \"cazotte\"              # jacques cazotte\n",
        "]\n",
        "auteurs_poeme = [\n",
        "        \"lefranc de pompignan\"  # jean-jacques lefranc de pompignan\n",
        "        , \"gilbert\"             # nicolas gilbert\n",
        "        , \"delille\"             # jacques delille\n",
        "        , \"chenier\"             # andré chénier\n",
        "        , \"parny\"               # évariste de parny\n",
        "]\n",
        "\n",
        "# variables contenant nos 4 corpus\n",
        "data_idees = {}\n",
        "data_theatre = {}\n",
        "data_roman = {}\n",
        "data_poeme = {}"
      ]
    },
    {
      "cell_type": "markdown",
      "id": "0ba6a417",
      "metadata": {
        "id": "0ba6a417"
      },
      "source": [
        "---\n",
        "\n",
        "## Constituer le corpus via `KatAPI`, l'API de Katabase\n",
        "\n",
        "\n",
        "### Les API en théorie\n",
        "\n",
        "#### Architecture client-serveur\n",
        "\n",
        "Pour rappel, le Web est défini selon une **architecture \"[client-serveur](https://fr.wikipedia.org/wiki/Client-serveur)\"**:\n",
        "- **le serveur**, c'est l'infrastructure technique qui met un site internet à disposition et qui le fait fonctionner.\n",
        "- **le client**, c'est ce qui utilise le site internet en interagissant avec le serveur (envoi et récupération de données).\n",
        "- Pour permettre la communication entre les deux, un ensemble de standards sont définis. Ils définissent une manière pour le client et le serveur de communiquer. Le standard le plus connu est le standard HTTP. Pour faire très simple, *naviguer sur le Web, c'est poser des questions (dites *requêtes*) à des serveurs, récupérer et afficher les réponses de ces serveurs*. \n",
        "\n",
        "#### Une API, c'est quoi?\n",
        "La manière la plus brève de définir une API Web, c'est de dire que **c'est un site internet pour machines**. Une API permet à une machine d'interagir avec un serveur à distance, de lui envoyer et de récupérer des données, de façon automatique. Une API est à la fois:\n",
        "- **une interface**: elle définit une syntaxe précise pour que le client interagisse avec le serveur. C'est ce côté là qui nous importe. \n",
        "- **un service, une application** (du côté du serveur, elle traite des requêtes, récupère et envoie des données)\n",
        "\n",
        "Dans les faits, une API diffère surtout d'un site Web \"pour humain.es\" parce qu'elle est pensée premièrement pour les machines: elle utilise des formats et des syntaxes simples et structurés pour que les machines puissent s'en servir facilement. La logique derrière les sites Web et les API est la même: on fait construit une URL pour faire une requête et on récupère un résultat. \n",
        "- Dans le cas d'un site normal, il s'agit d'un résultat lisible par les humain.es (*human readable*): une page HTML.\n",
        "- Dans le cas d'un site, il s'agit d'un résultat structuré, *machine readable*: `json`, `xml`...\n",
        "\n",
        "Une API est aussi utilisable *à la main*: voir par exemple [cette requête sur Madame de Sévigné](https://katabase.huma-num.fr/katapi?level=item&name=S%C3%A9vign%C3%A9&sell_date=1800-1900&orig_date=1500-1800&format=json). À l'inverse, un site Web peut être accédé par une machine, comme on va le voir.\n",
        "\n",
        "#### Pourquoi est-ce les API c'est super pour la recherche?\n",
        "\n",
        "Vaste question. Dans le cadre d'une recherche *en solo*, les APIs permettent d'accéder automatiquement à de très grands corpus mis en ligne par des institutions de recherche, des bibliothèques... Elles permettent souvent de faire des recherches et de récupérer des données pertinentes. \n",
        "\n",
        "Dans le cadre du projet Katabase, par exemple, l'API Wikidata a été utilisée pour identifier les auteur.ice.s des 100.000 manuscrits présents dans la base de données du projet. Grâce aux API Wikidata, là encore, une base de données sur mesure sur ces auteur.ices a été constituée, pour mieux comprendre la constitution du canon littéraire au XIXe siècle.\n",
        "\n",
        "### Utiliser une API avec Python: le module `requests`\n",
        "\n",
        "[`requests`](https://docs.python-requests.org/en/latest/index.html) est un module très simple pour faire des requêtes HTTP sur le Web. \n",
        "\n",
        "Le principe du HTTP est simple: \n",
        "- on définit une méthode de requête (`GET` pour récupérer des données, `POST` pour en envoyer...)\n",
        "- une URL (l'endroit où l'on veut, soit envoyer, soir obtenir des données\n",
        "- des paramètres supplémentaires, si besoin.\n",
        "\n",
        "Le serveur visé par l'URL traite la requête et renvoie une réponse.\n",
        "\n",
        "Avec requests, ce n'est pas bien compliqué: pour récupérer des données, il suffit de faire:\n",
        "```python\n",
        "r = requests.get(url, paramètres)  # on a les 3 parties d'une requête HTTP: méthode, url, paramètres\n",
        "```\n",
        "\n",
        "Pour accéder au contenu de la réponse, il suffit de faire:\n",
        "\n",
        "```python\n",
        "r.json()  # si la réponse est en json, on peut ainsi récupérer un dicitonnaire\n",
        "r.text    # pour récupérer la réponse au format texte\n",
        "```\n",
        "\n",
        "On disait tout à l'heure qu'une machine pouvait faire une requête sur un site humain normal. On accède ici à la page Wikipedia de l'artiste [Claire Fontaine](https://en.wikipedia.org/wiki/Claire_Fontaine)."
      ]
    },
    {
      "cell_type": "code",
      "execution_count": null,
      "id": "4b12a035",
      "metadata": {
        "id": "4b12a035"
      },
      "outputs": [],
      "source": [
        "r = requests.get(\"https://en.wikipedia.org/wiki/Claire_Fontaine\")\n",
        "print(r.url)\n",
        "print(r.text)  # là, on voit pourquoi les API existent et ont des formats de réponse plus légers..."
      ]
    },
    {
      "cell_type": "markdown",
      "id": "097b1dc9",
      "metadata": {
        "id": "097b1dc9"
      },
      "source": [
        "### En pratique: constituer le corpus\n",
        "\n",
        "**L'API de Katabase** (documentation [ici](https://katabase.huma-num.fr/Katapi_documentation), code source [ici](https://github.com/katabase/Application)) sera utilisée pour constituer les corpus. L'API utilise une syntaxe simple et permet, entre autres, de récupérer toutes les entrées de catalogues associées au nom d'un.e auteur.ice, au format `json` ou sous la forme d'un document [`xml-tei`](https://fr.wikipedia.org/wiki/Text_Encoding_Initiative) complet (le standard pour l'encodage de documents textuels).\n",
        "\n",
        "On fait une première requête pour voir la structure de la réponse (je ne rentre pas dans les détails, c'est le résultat qui importe ici)"
      ]
    },
    {
      "cell_type": "code",
      "execution_count": null,
      "id": "b85e12dd",
      "metadata": {
        "id": "b85e12dd"
      },
      "outputs": [],
      "source": [
        "r = requests.get(\"https://katabase.huma-num.fr/katapi?level=item&name=S%C3%A9vign%C3%A9&sell_date=1800-1900&orig_date=1500-1800&format=json\")\n",
        "print(json.dumps(r.json(), indent=4))"
      ]
    },
    {
      "cell_type": "markdown",
      "id": "7d69a8be",
      "metadata": {
        "id": "7d69a8be"
      },
      "source": [
        "Dans les grandes lignes, une réponse de `KatAPI` est faite de\n",
        "- un en-tête `head` qui définit à la fois la requête et sa réponse\n",
        "- un corps `results`, qui contient les résultats de la requête. Chaque résultat est représenté par un couple clé-valeur, où la clé est l'identifiant unique de l'entrée dans la base de données de Katabase et la valeur une représentation JSON de l'entrée de catalogue.\n",
        "\n",
        "On définit donc une fonction qui, pour chaque nom d'auteur.ice dans nos corpus,\n",
        "- lancera une requête sur l'API\n",
        "- récupérera le résultat en JSON et le filtrera pour ne garder que les éléments nécessaires.\n",
        "- l'ajoutera à un dictionnaire stockant tous les résultats pour un corpus."
      ]
    },
    {
      "cell_type": "code",
      "execution_count": null,
      "id": "43addea6",
      "metadata": {
        "scrolled": true,
        "id": "43addea6"
      },
      "outputs": [],
      "source": [
        "def katapi_request(dataset, author_name):\n",
        "    \"\"\"\n",
        "    faire une requête sur l'API.\n",
        "    \n",
        "    structure de `dataset`, la variable de sortie:\n",
        "    {\n",
        "        \"identifiant\": {\n",
        "            # description JSON du manuscrit\n",
        "        }\n",
        "    }\n",
        "    \n",
        "    :param author_name: le nom de l'auteur.ice à requêter\n",
        "    :param dataset: le dictionnaire auquel rajouter les résultats de la requête.\n",
        "    \"\"\"\n",
        "    # définir les paramètres\n",
        "    root_url = \" https://katabase.huma-num.fr/katapi?\"  # l'URL pointant vers l'API\n",
        "    params = {\n",
        "        # les paramètres de notre requête\n",
        "        \"level\": \"item\",  # la requête est faite sur les entrées de catalogue, pas sur un catalogue complet\n",
        "        \"format\": \"json\",  # la réponse devra être en `json` (non en `xml-tei`)\n",
        "        \"sell_date\": \"1850-1910\",  # les manuscrits ont été vendus entre 1850 et 1900\n",
        "        \"name\": author_name  # l'auteur.ice du manuscrit est\n",
        "    }\n",
        "    \n",
        "    # faire la requête\n",
        "    r = requests.get(root_url, params=params)\n",
        "    \n",
        "    # l'url de la requête est construit tout seul par `requests`\n",
        "    # à partir de `root_url` et `params`:\n",
        "    print(r.url)\n",
        "    \n",
        "    # récupérer la réponse en json\n",
        "    response = r.json()\n",
        "    \n",
        "    # on ajoute les résultats à notre variable de sortie\n",
        "    for manuscript_id in response[\"results\"]:\n",
        "        dataset[manuscript_id] = response[\"results\"][manuscript_id]\n",
        "        \n",
        "    return dataset\n",
        "\n",
        "\n",
        "# on utilise ensuite cette fonction pour construire 4 jeux\n",
        "# de données, un par entrée. à chaque itération, on ajoute\n",
        "# à la variable `data_...` les résultats retournés par l'API\n",
        "# pour un nouveau nom\n",
        "for auteur in auteurs_idees:\n",
        "    data_idees = katapi_request(data_idees, auteur)\n",
        "for auteur in auteurs_theatre:\n",
        "    data_theatre = katapi_request(data_theatre, auteur)\n",
        "for auteur in auteurs_roman:\n",
        "    data_roman = katapi_request(data_roman, auteur)\n",
        "for auteur in auteurs_poeme:\n",
        "    data_poeme = katapi_request(data_poeme, auteur)\n"
      ]
    },
    {
      "cell_type": "markdown",
      "id": "93fbdf43",
      "metadata": {
        "id": "93fbdf43"
      },
      "source": [
        "---\n",
        "\n",
        "## Du JSON au corpus en texte brut\n",
        "\n",
        "Notre jeu de données de base est constitué. Il est stocké dans 4 variables, une corpus/genre. Il reste encore 3 étapes:\n",
        "- nettoyer les jeux de données\n",
        "- les représenter sous la forme de texte brut\n",
        "- les enregistrer en fichiers texte.\n",
        "\n",
        "### Nettoyer les réponses\n",
        "\n",
        "On écrit une fonction pour nettoyer un jeu de données."
      ]
    },
    {
      "cell_type": "code",
      "execution_count": null,
      "id": "7bf9cc2e",
      "metadata": {
        "scrolled": false,
        "id": "7bf9cc2e"
      },
      "outputs": [],
      "source": [
        "def clean_dataset(dataset):\n",
        "    \"\"\"\n",
        "    ici, on traite légèrement les jeux de données en JSON:\n",
        "    - on supprime les éléments de description des entrées qui ne\n",
        "      font pas partie du texte source (à l'exception du prix en \n",
        "      francs constants) et qui ne nous serviront pas ensuite\n",
        "    - on supprime les espaces inutiles et sauts de lignes à l'intérieur\n",
        "      de la description\n",
        "    \n",
        "    :param dataset: un jeu de données au format JSON construit avec `get_katabase_dataset()`.\n",
        "    :returns: le jeu de données nettoyé.\n",
        "    \"\"\"\n",
        "    dataset_out = {}  # jeu de données de sortie\n",
        "    \n",
        "    # on itère sur chaque clé et valeur du jeu de données\n",
        "    # pour nettoyer les valeurs\n",
        "    for key, value in dataset.items():\n",
        "        \n",
        "        # on supprime les éléments inutiles\n",
        "        value.pop(\"author_wikidata_id\", None)  # l'identifiant wikidata\n",
        "        value.pop(\"format\", None)  # le format de l'autographe\n",
        "        value.pop(\"term\", None)  # un terme normalisé décrivant le type de manuscrit (lettre autographe...)\n",
        "            \n",
        "        # on utilise une expression régulière pour supprimer les grands vides dans\n",
        "        # le JSON: sauts de ligne, indentations...\n",
        "        # - `\\n*`: 0 à plusieurs sauts de ligne\n",
        "        # - `\\s+`: un ou plusieurs espaces\n",
        "        # - on utilise `re.sub()` pour faire un remplacement. on remplace le motif ci-dessus par un espace.\n",
        "        #   syntaxe: `re.sub(motif, remplacement, texte)`\n",
        "        value[\"desc\"] = re.sub(\"\\n*\\s+\", \" \", value[\"desc\"])\n",
        "        \n",
        "        # on ajoute l'entrée nettoyée à notre jeu de données\n",
        "        dataset_out[key] = value\n",
        "    \n",
        "    return dataset_out\n",
        "\n",
        "# nettoyer les jeux de données\n",
        "data_idees = clean_dataset(data_idees)\n",
        "data_theatre = clean_dataset(data_theatre)\n",
        "data_roman = clean_dataset(data_roman)\n",
        "data_poeme = clean_dataset(data_poeme)\n",
        "\n",
        "print(data_poeme)"
      ]
    },
    {
      "cell_type": "markdown",
      "id": "a9642128",
      "metadata": {
        "id": "a9642128"
      },
      "source": [
        "### Transformer les dictionnaires en texte brut\n",
        "\n",
        "Pour le moment, les entrées de catalogue sont représentées sous la forme d'un dictionnaire structuré. Or, tout l'enjeu du tutoriel sur la fouille de texte était de détecter des motifs à partir d'un texte brut. Donc, doit écrire une fonction pour représenter les jeux de données sous la forme de texte brut. Pour rappel, la structure attendue est la suivante: \n",
        "\n",
        "```\n",
        "Nom de l'auteur.ice\n",
        "Écrit en [date]. Vendu en [date].\n",
        "Dimensions: [nombre décimal].\n",
        "[description en texte libre]\n",
        "Prix: [nombre décimal] [monnaie] (en francs constants 1900: [nombre décimal].  # ligne optionnelle\n",
        "[saut de ligne]\n",
        "[saut de ligne]\n",
        "```"
      ]
    },
    {
      "cell_type": "code",
      "execution_count": null,
      "id": "e7b4ef2e",
      "metadata": {
        "id": "e7b4ef2e"
      },
      "outputs": [],
      "source": [
        "def make_text(dataset):\n",
        "    \"\"\"\n",
        "    ici, on construit un fichier en texte brut à partir du JSON récupéré\n",
        "    par l'API Katabase et on l'enregistre dans un fichier.\n",
        "    \n",
        "    :param dataset: le jeu de données à partir duquel produire un texte brut.\n",
        "    \"\"\"\n",
        "    text_out = \"\"  # le texte brut qui sera produit\n",
        "    \n",
        "    # on utilise `.values()` pour itérer seulement sur les valeurs: \n",
        "    # - `.values()` produit une liste des valeurs d'un dictionnaire,\n",
        "    #   c'est-à-dire des éléments à droite dans des entrées de\n",
        "    #   dictionnaire\n",
        "    # - l'identifiant des entrées de catalogues ne sera pas retenu \n",
        "    #   dans le texte qu'on est en train de construire, donc pas la\n",
        "    #   peine d'itérer sur celui-ci.\n",
        "    for value in dataset.values():\n",
        "        value_to_string = \"\"  # la version texte de l'entrée de catalogue\n",
        "        \n",
        "        # on ajoute le nom de l'auteur.\n",
        "        # la syntaxe `f\"\"` permet d'intégrer la valeur\n",
        "        # de variables dans du texte: \n",
        "        # les variables s'écrivent entre `{}`. leur valeur est évaluée\n",
        "        # et rajoutée à l'intérieur de la chaîne de caractère.\n",
        "        value_to_string = f\"{value['author']}\\n\"\n",
        "        \n",
        "        # si il existe une date d'écriture du manuscrit, on l'ajoute\n",
        "        # `+=` permet d'incrémenter une variable: on ajoute à une\n",
        "        # variable la valeur à droite\n",
        "        if value[\"date\"] is not None:\n",
        "            value_to_string += f\"Écrit en {value['date']}. \"\n",
        "        \n",
        "        # on ajoute ensuite la date de vente, le nombre de pages et une description\n",
        "        # l'opérateur `+` permet de concaténer du texte, c'est à dire de mettre plusieurs\n",
        "        # bouts de texte bout à bout\n",
        "        value_to_string += f\"Vendu en {value['sell_date']}.\\n\"\\\n",
        "                           + f\"Dimensions: {value['number_of_pages']} pages.\\n\"\\\n",
        "                           + f\"{value['desc']}\\n\"\n",
        "        \n",
        "        # si il y a un prix, on ajoute le prix, la monnaie et le prix en francs constants.\n",
        "        if value[\"price\"] is not None:\n",
        "            value_to_string += f\"Prix: {value['price']} {value['currency']} \"\\\n",
        "                               + f\"(en francs constants 1900: {value['price_c']}).\\n\"\n",
        "        \n",
        "        # enfin, pour signifier la fin d'une entrée, on ajoute 2 lignes vides\n",
        "        value_to_string += \"\\n\\n\"\n",
        "        \n",
        "        # on ajoute cette entrée à `text_out`, pour créer notre document de sortie.\n",
        "        text_out += value_to_string\n",
        "    \n",
        "    return text_out\n",
        "\n",
        "# maintenant on transforme en texte nos 4 corpus.\n",
        "corpus_theatre = make_text(data_theatre)\n",
        "corpus_idees = make_text(data_idees)\n",
        "corpus_roman = make_text(data_roman)\n",
        "corpus_poeme = make_text(data_poeme)\n",
        "\n",
        "print(corpus_theatre)"
      ]
    },
    {
      "cell_type": "markdown",
      "id": "ebbc6a24",
      "metadata": {
        "id": "ebbc6a24"
      },
      "source": [
        "### Enregistrer les fichiers\n",
        "\n",
        "Enfin, on enregistre les 4 corpus produits dans des fichiers. La syntaxe pour enregistrer un fichier est la même que celle pour lire un fichier vue dans le notebook précédent: \n",
        "\n",
        "```python\n",
        "with open(nom_du_fichier, mode=\"w\") as fh:\n",
        "    fh.write(\"texte à écrire\")\n",
        "```\n",
        "\n",
        "Les deux seules choses qui changent sont:\n",
        "- le `mode` dans lequel le fichier est ouvert avec `open()`: on met `w`, pour `write`, en mode de `open()`, ce qui signifie que le fichier est ouvert en écriture.\n",
        "- on utilise `fh.write()` pour écrire (avant, on utilisait `fh.read()` pour lire."
      ]
    },
    {
      "cell_type": "code",
      "execution_count": null,
      "id": "de8d7d95",
      "metadata": {
        "id": "de8d7d95"
      },
      "outputs": [],
      "source": [
        "# on  crée une fonction pour écrire les résultats dans un fichier\n",
        "def write_corpus(corpus, genre):\n",
        "    \"\"\"\n",
        "    écrire le résultat dans un fichier.\n",
        "    :param corpus: le texte à écrire\n",
        "    :param genre: le genre du corpus, pour nommer le fichier comme il faut\n",
        "    \"\"\"\n",
        "    outpath = os.path.join(f\"catalogue_{genre}.txt\")\n",
        "    with open(outpath, mode=\"w+\") as fh:\n",
        "        fh.write(corpus)  # on y écrit le contenu de `corpus`\n",
        "\n",
        "# enfin on écrit nos fichiers\n",
        "write_corpus(corpus_roman, \"roman\")\n",
        "write_corpus(corpus_idees, \"idees\")\n",
        "write_corpus(corpus_poeme, \"poeme\")\n",
        "write_corpus(corpus_theatre, \"theatre\")"
      ]
    },
    {
      "cell_type": "markdown",
      "id": "904d3128",
      "metadata": {
        "id": "904d3128"
      },
      "source": [
        "## Et voilà !\n",
        "\n",
        "En 2 temps 3 mouvements (ou presque), on a découvert ce que c'était une API et constitué 4 petits  corpus de recherche. On les a également enregistrés pour pouvoir les réutiliser plus tard. Ce qu'on a vu là n'était qu'une petite introduction aux API, qui vise à vous donner des outils pour votre recherche plus tard. Même si les API n'ont pas l'air phénoménalement utiles là tout de suite, c'est en continuant de les utiliser qu'on découvre tout leur potentiel et leur utilité pour la recherche en humanités : )\n",
        "\n",
        "## [Notebook suivant](https://colab.research.google.com/drive/1DIM-zHq230x6fyZRoKOuYIf3K7udxloB?usp=sharing)"
      ]
    }
  ],
  "metadata": {
    "kernelspec": {
      "display_name": "Python 3 (ipykernel)",
      "language": "python",
      "name": "python3"
    },
    "language_info": {
      "codemirror_mode": {
        "name": "ipython",
        "version": 3
      },
      "file_extension": ".py",
      "mimetype": "text/x-python",
      "name": "python",
      "nbconvert_exporter": "python",
      "pygments_lexer": "ipython3",
      "version": "3.8.10"
    },
    "colab": {
      "provenance": []
    }
  },
  "nbformat": 4,
  "nbformat_minor": 5
}