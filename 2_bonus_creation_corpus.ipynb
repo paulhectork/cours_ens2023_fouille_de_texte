{
 "cells": [
  {
   "cell_type": "markdown",
   "id": "928dff28",
   "metadata": {},
   "source": [
    "\n",
    "- les auteur.ice.s sont définis pour chaque genre\n",
    "- des manuscrits de ces auteur.ice.s présents dans les catalogues Katabase sont récupérés sur le Web, avec l'API de Katabase. Cette étape est le point central du notebook.\n",
    "- les données récupérés sont nettoyées et structurées obtenir 4 corpus en texte brut\n",
    "- les corpus sont enregistrés dans des fichiers"
   ]
  }
 ],
 "metadata": {
  "kernelspec": {
   "display_name": "Python 3 (ipykernel)",
   "language": "python",
   "name": "python3"
  },
  "language_info": {
   "codemirror_mode": {
    "name": "ipython",
    "version": 3
   },
   "file_extension": ".py",
   "mimetype": "text/x-python",
   "name": "python",
   "nbconvert_exporter": "python",
   "pygments_lexer": "ipython3",
   "version": "3.8.10"
  }
 },
 "nbformat": 4,
 "nbformat_minor": 5
}
